{
 "cells": [
  {
   "cell_type": "code",
   "execution_count": 13,
   "id": "25e8fb8e-af07-49a9-ba41-8721e7000e72",
   "metadata": {
    "tags": []
   },
   "outputs": [],
   "source": [
    "import os\n",
    "from pyspark.sql import SparkSession\n",
    "from pyspark.sql.functions import col, count, desc, sum, dense_rank, when, lower, exists\n",
    "from pyspark.sql.window import Window\n",
    "\n",
    "\n",
    "spark = SparkSession.builder \\\n",
    "    .appName(\"MyApp\") \\\n",
    "    .master(\"local[*]\") \\\n",
    "    .config(\"spark.driver.extraClassPath\", \"postgresql-42.6.0.jar\") \\\n",
    "    .config(\"spark.jars\", \"postgresql-42.6.0.jar\") \\\n",
    "    .getOrCreate()\n",
    "\n",
    "jdbcUrl = \"jdbc:postgresql://pagila:5432/postgres\"\n",
    "connectionProperties = {\n",
    "  \"user\": \"postgres\",\n",
    "  \"password\": \"123456\",\n",
    "  \"driver\": \"org.postgresql.Driver\"\n",
    "}\n",
    "\n",
    "df_actor = spark.read.jdbc(url=jdbcUrl, table=\"actor\", properties=connectionProperties)\n",
    "df_address = spark.read.jdbc(url=jdbcUrl, table=\"address\", properties=connectionProperties)\n",
    "df_category = spark.read.jdbc(url=jdbcUrl, table=\"category\", properties=connectionProperties)\n",
    "df_country = spark.read.jdbc(url=jdbcUrl, table=\"country\", properties=connectionProperties)\n",
    "df_customer = spark.read.jdbc(url=jdbcUrl, table=\"customer\", properties=connectionProperties)\n",
    "\n",
    "df_film = spark.read.jdbc(url=jdbcUrl, table=\"film\", properties=connectionProperties)\n",
    "df_film_actor = spark.read.jdbc(url=jdbcUrl, table=\"film_actor\", properties=connectionProperties)\n",
    "df_film_category = spark.read.jdbc(url=jdbcUrl, table=\"film_category\", properties=connectionProperties)\n",
    "df_inventory = spark.read.jdbc(url=jdbcUrl, table=\"inventory\", properties=connectionProperties)\n",
    "df_language = spark.read.jdbc(url=jdbcUrl, table=\"language\", properties=connectionProperties)\n",
    "\n",
    "df_payment = spark.read.jdbc(url=jdbcUrl, table=\"payment\", properties=connectionProperties)\n",
    "df_rental = spark.read.jdbc(url=jdbcUrl, table=\"rental\", properties=connectionProperties)\n",
    "df_staff = spark.read.jdbc(url=jdbcUrl, table=\"staff\", properties=connectionProperties)\n",
    "df_store = spark.read.jdbc(url=jdbcUrl, table=\"store\", properties=connectionProperties)\n",
    "df_city = spark.read.jdbc(url=jdbcUrl, table=\"city\", properties=connectionProperties)"
   ]
  },
  {
   "cell_type": "code",
   "execution_count": 7,
   "id": "9fd330c6-8d5e-459f-86ac-9e680e0ed335",
   "metadata": {},
   "outputs": [
    {
     "name": "stdout",
     "output_type": "stream",
     "text": [
      "+-------------+-----------+\n",
      "|category_name|films_count|\n",
      "+-------------+-----------+\n",
      "|       Sports|         74|\n",
      "|      Foreign|         73|\n",
      "|       Family|         69|\n",
      "|  Documentary|         68|\n",
      "|    Animation|         66|\n",
      "|       Action|         64|\n",
      "|          New|         63|\n",
      "|        Drama|         62|\n",
      "|        Games|         61|\n",
      "|       Sci-Fi|         61|\n",
      "|     Children|         60|\n",
      "|       Comedy|         58|\n",
      "|       Travel|         57|\n",
      "|     Classics|         57|\n",
      "|       Horror|         56|\n",
      "|        Music|         51|\n",
      "+-------------+-----------+\n",
      "\n"
     ]
    }
   ],
   "source": [
    "# task 1\n",
    "df_category.join(df_film_category,\"category_id\") \\\n",
    "    .select(df_category[\"name\"].alias(\"category_name\"), df_film_category[\"film_id\"]) \\\n",
    "    .groupBy(\"category_name\") \\\n",
    "    .agg({\"film_id\": \"count\"}) \\\n",
    "    .withColumnRenamed(\"count(film_id)\", \"films_count\") \\\n",
    "    .orderBy(col(\"films_count\").desc()).show()"
   ]
  },
  {
   "cell_type": "code",
   "execution_count": 11,
   "id": "8907bcb0-f4c3-44ac-8444-8df172154fcf",
   "metadata": {},
   "outputs": [
    {
     "name": "stdout",
     "output_type": "stream",
     "text": [
      "+----------+-----------+-------------+\n",
      "|first_name|  last_name|rental_amount|\n",
      "+----------+-----------+-------------+\n",
      "|     SUSAN|      DAVIS|          825|\n",
      "|      GINA|  DEGENERES|          753|\n",
      "|   MATTHEW|     CARREY|          678|\n",
      "|      MARY|     KEITEL|          674|\n",
      "|    ANGELA|WITHERSPOON|          654|\n",
      "+----------+-----------+-------------+\n",
      "\n"
     ]
    }
   ],
   "source": [
    "# task 2\n",
    "df_actor.join(df_film_actor, \"actor_id\") \\\n",
    "    .join(df_inventory, \"film_id\") \\\n",
    "    .join(df_rental, \"inventory_id\") \\\n",
    "    .groupBy(\"first_name\", \"last_name\") \\\n",
    "    .agg(count(\"rental_id\").alias(\"rental_amount\")) \\\n",
    "    .sort(desc(\"rental_amount\")) \\\n",
    "    .limit(5) \\\n",
    "    .show()"
   ]
  },
  {
   "cell_type": "code",
   "execution_count": 16,
   "id": "b52a594d-0988-4880-b488-82d9bd6218e6",
   "metadata": {},
   "outputs": [
    {
     "name": "stdout",
     "output_type": "stream",
     "text": [
      "+-------------+--------------+\n",
      "|category_name|payment_amount|\n",
      "+-------------+--------------+\n",
      "|       Sports|       5314.21|\n",
      "+-------------+--------------+\n",
      "\n"
     ]
    }
   ],
   "source": [
    "# task 3\n",
    "df_category.join(df_film_category, \"category_id\", \"inner\") \\\n",
    "    .join(df_inventory, \"film_id\") \\\n",
    "    .join(df_rental, \"inventory_id\") \\\n",
    "    .join(df_payment, \"rental_id\") \\\n",
    "    .select(col(\"name\").alias(\"category_name\"), col(\"amount\")) \\\n",
    "    .groupby(\"category_name\") \\\n",
    "    .agg(sum(\"amount\").alias(\"payment_amount\")) \\\n",
    "    .orderBy(col(\"payment_amount\").desc()) \\\n",
    "    .limit(1) \\\n",
    "    .show()"
   ]
  },
  {
   "cell_type": "code",
   "execution_count": 64,
   "id": "9446dffb-afa5-4da7-8fe8-43f309088086",
   "metadata": {},
   "outputs": [
    {
     "name": "stdout",
     "output_type": "stream",
     "text": [
      "+--------------------+\n",
      "|               title|\n",
      "+--------------------+\n",
      "|      ALICE FANTASIA|\n",
      "|         APOLLO TEEN|\n",
      "|      ARGONAUTS TOWN|\n",
      "|       ARK RIDGEMONT|\n",
      "|ARSENIC INDEPENDENCE|\n",
      "|   BOONDOCK BALLROOM|\n",
      "|       BUTCH PANTHER|\n",
      "|       CATCH AMISTAD|\n",
      "| CHINATOWN GLADIATOR|\n",
      "|      CHOCOLATE DUCK|\n",
      "|COMMANDMENTS EXPRESS|\n",
      "|    CROSSING DIVORCE|\n",
      "|     CROWDS TELEMARK|\n",
      "|    CRYSTAL BREAKING|\n",
      "|          DAZED PUNK|\n",
      "|DELIVERANCE MULHO...|\n",
      "|   FIREHOUSE VIETNAM|\n",
      "|       FLOATS GARDEN|\n",
      "|FRANKENSTEIN STRA...|\n",
      "|  GLADIATOR WESTWARD|\n",
      "+--------------------+\n",
      "only showing top 20 rows\n",
      "\n"
     ]
    }
   ],
   "source": [
    "# task 4\n",
    "df_film.join(df_inventory, \"film_id\", \"left\") \\\n",
    "    .filter(col(\"inventory_id\").isNull()) \\\n",
    "    .select(\"title\") \\\n",
    "    .orderBy(col(\"title\").asc()) \\\n",
    "    .show()\n"
   ]
  },
  {
   "cell_type": "code",
   "execution_count": 63,
   "id": "1112d57c-3a59-401e-8aa4-39730679c54b",
   "metadata": {},
   "outputs": [
    {
     "name": "stdout",
     "output_type": "stream",
     "text": [
      "+----------+---------+-----------+\n",
      "|first_name|last_name|movie_count|\n",
      "+----------+---------+-----------+\n",
      "|     HELEN|   VOIGHT|          7|\n",
      "|     KEVIN|  GARLAND|          5|\n",
      "|     RALPH|     CRUZ|          5|\n",
      "|      MARY|    TANDY|          5|\n",
      "|    WHOOPI|     HURT|          5|\n",
      "|  SCARLETT|    DAMON|          4|\n",
      "| SYLVESTER|     DERN|          4|\n",
      "|    SANDRA|   KILMER|          4|\n",
      "|     RENEE|     BALL|          4|\n",
      "|   KIRSTEN|   AKROYD|          4|\n",
      "|      ALAN| DREYFUSS|          4|\n",
      "|     SUSAN|    DAVIS|          4|\n",
      "|     JAYNE|    NOLTE|          4|\n",
      "|       UMA|     WOOD|          4|\n",
      "|      JANE|  JACKMAN|          4|\n",
      "| CHRISTIAN|   AKROYD|          4|\n",
      "|      JADA|    RYDER|          4|\n",
      "|     ELLEN|  PRESLEY|          4|\n",
      "|       VAL|   BOLGER|          4|\n",
      "+----------+---------+-----------+\n",
      "\n"
     ]
    }
   ],
   "source": [
    "# task 5\n",
    "category_id = df_category.filter(col(\"name\") == \"Children\") \\\n",
    "    .select(\"category_id\") \\\n",
    "    .limit(1)\n",
    "\n",
    "df_actor_children_movies = (\n",
    "df_film_category.join(category_id, \"category_id\") \\\n",
    "    .join(df_film_actor, \"film_id\") \\\n",
    "    .join(df_actor, \"actor_id\") \\\n",
    "    .groupBy(\"actor_id\", \"first_name\", \"last_name\") \\\n",
    "    .agg(count(\"*\").alias(\"movie_count\"))\n",
    ")\n",
    "\n",
    "window_spec = Window.orderBy(col(\"movie_count\").desc())\n",
    "\n",
    "df_top_actors = (\n",
    "df_actor_children_movies.withColumn(\"rank\", dense_rank().over(window_spec)) \\\n",
    "    .filter(col(\"rank\") <= 3) \\\n",
    "    .select(\"first_name\", \"last_name\", \"movie_count\") \\\n",
    "    .orderBy(col(\"movie_count\").desc())\n",
    ")\n",
    "\n",
    "df_top_actors.show()"
   ]
  },
  {
   "cell_type": "code",
   "execution_count": 35,
   "id": "ddb7af98-161f-4621-b9bc-b6287132b02c",
   "metadata": {},
   "outputs": [
    {
     "name": "stdout",
     "output_type": "stream",
     "text": [
      "+------------------+----------------+------------------+\n",
      "|              city|active_customers|inactive_customers|\n",
      "+------------------+----------------+------------------+\n",
      "|          Uluberia|               0|                 1|\n",
      "|         Najafabad|               0|                 1|\n",
      "|         Pingxiang|               0|                 1|\n",
      "|          Xiangfan|               0|                 1|\n",
      "|        Kumbakonam|               0|                 1|\n",
      "|       Szkesfehrvr|               0|                 1|\n",
      "|  Charlotte Amalie|               0|                 1|\n",
      "|            Kamyin|               0|                 1|\n",
      "|            Daxian|               0|                 1|\n",
      "|     Coatzacoalcos|               0|                 1|\n",
      "|           Wroclaw|               0|                 1|\n",
      "|            Ktahya|               0|                 1|\n",
      "|           Bat Yam|               0|                 1|\n",
      "|   Southend-on-Sea|               0|                 1|\n",
      "|            Amroha|               0|                 1|\n",
      "|A Corua (La Corua)|               1|                 0|\n",
      "|          Fengshan|               1|                 0|\n",
      "|          Chisinau|               1|                 0|\n",
      "|              Linz|               1|                 0|\n",
      "|           Udaipur|               1|                 0|\n",
      "+------------------+----------------+------------------+\n",
      "only showing top 20 rows\n",
      "\n"
     ]
    }
   ],
   "source": [
    "# task 6\n",
    "df_active_customers = df_city.join(df_address, \"city_id\") \\\n",
    "    .join(df_customer, \"address_id\") \\\n",
    "    .groupBy(df_city[\"city\"]) \\\n",
    "    .agg(count(when(df_customer.active == 1, 1)).alias('active_customers'), count(when(df_customer.active == 0, 1)).alias('inactive_customers')) \\\n",
    "    .orderBy('inactive_customers', ascending=False)\n",
    "\n",
    "df_active_customers.show()"
   ]
  },
  {
   "cell_type": "code",
   "execution_count": 41,
   "id": "96fc738e-601b-49b6-87e0-ddba8f7f32bd",
   "metadata": {},
   "outputs": [
    {
     "name": "stdout",
     "output_type": "stream",
     "text": [
      "+-------------+\n",
      "|category_name|\n",
      "+-------------+\n",
      "|       Action|\n",
      "+-------------+\n",
      "\n"
     ]
    }
   ],
   "source": [
    "# task 7\n",
    "\n",
    "joined_data = df_city \\\n",
    "    .join(df_address, \"city_id\") \\\n",
    "    .join(df_customer, \"address_id\") \\\n",
    "    .join(df_rental, \"customer_id\") \\\n",
    "    .join(df_inventory, \"inventory_id\") \\\n",
    "    .join(df_film, \"film_id\") \\\n",
    "    .join(df_film_category, \"film_id\") \\\n",
    "    .join(df_category, \"category_id\") \n",
    "\n",
    "filtered_data = joined_data \\\n",
    "    .filter(lower(df_film[\"title\"]).like(\"a%\")) \\\n",
    "    .filter(lower(df_city[\"city\"]).like(\"%-%\"))\n",
    "\n",
    "grouped_data = filtered_data \\\n",
    "    .groupBy(df_category[\"name\"]) \\\n",
    "    .agg(sum((df_rental[\"return_date\"] - df_rental[\"rental_date\"])).alias(\"time_diff\"))\n",
    "\n",
    "window_spec = Window.orderBy(grouped_data[\"time_diff\"].desc())\n",
    "\n",
    "ranked_data = grouped_data.withColumn(\"rank_sum\", dense_rank().over(window_spec))\n",
    "\n",
    "final_data = ranked_data \\\n",
    "    .filter(ranked_data[\"rank_sum\"] <= 1) \\\n",
    "    .select(df_category[\"name\"].alias(\"category_name\"))\n",
    "\n",
    "final_data.show()\n"
   ]
  },
  {
   "cell_type": "code",
   "execution_count": null,
   "id": "7be1881e-b9d1-4aae-b216-7de065dee5da",
   "metadata": {},
   "outputs": [],
   "source": []
  }
 ],
 "metadata": {
  "kernelspec": {
   "display_name": "Python 3 (ipykernel)",
   "language": "python",
   "name": "python3"
  },
  "language_info": {
   "codemirror_mode": {
    "name": "ipython",
    "version": 3
   },
   "file_extension": ".py",
   "mimetype": "text/x-python",
   "name": "python",
   "nbconvert_exporter": "python",
   "pygments_lexer": "ipython3",
   "version": "3.10.10"
  }
 },
 "nbformat": 4,
 "nbformat_minor": 5
}
